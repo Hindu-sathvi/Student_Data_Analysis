{
  "nbformat": 4,
  "nbformat_minor": 0,
  "metadata": {
    "colab": {
      "provenance": []
    },
    "kernelspec": {
      "name": "python3",
      "display_name": "Python 3"
    },
    "language_info": {
      "name": "python"
    }
  },
  "cells": [
    {
      "cell_type": "code",
      "execution_count": null,
      "metadata": {
        "id": "bENqClu0wxkT"
      },
      "outputs": [],
      "source": [
        "header=[\"Station Name\",\"Timestamp\",\"Air Temperature\"]\n",
        "data = [\n",
        "    [\"Foster Weather Station\", \"01/01/2016 11:00:00 PM\", \"69.0\"],\n",
        "    [\"Foster Weather Station\", \"01/01/2016 08:00:00 PM\", \"70.0\"],\n",
        "    [\"Foster Weather Station\", \"01/01/2016 07:00:00 PM\", \"70.0\"],\n",
        "    [\"Foster Weather Station\", \"01/01/2016 06:00:00 PM\", \"72.0\"],\n",
        "    [\"Foster Weather Station\", \"01/01/2016 05:00:00 PM\", \"72.0\"],\n",
        "    [\"Foster Weather Station\", \"01/01/2016 04:00:00 PM\", \"73.0\"],\n",
        "    [\"Foster Weather Station\", \"01/01/2016 03:00:00 PM\", \"69.0\"],\n",
        "    [\"Foster Weather Station\", \"01/01/2016 02:00:00 PM\", \"70.0\"],\n",
        "    [\"Foster Weather Station\", \"01/01/2016 01:00:00 PM\", \"70.0\"],\n",
        "    [\"Foster Weather Station\", \"01/01/2016 12:00:00 PM\", \"70.0\"],\n",
        "    [\"Foster Weather Station\", \"01/01/2016 11:00:00 AM\", \"70.0\"],\n",
        "    [\"Foster Weather Station\", \"01/01/2016 10:00:00 AM\", \"70.0\"],\n",
        "    [\"Foster Weather Station\", \"01/01/2016 09:00:00 AM\", \"70.0\"],\n",
        "    [\"Foster Weather Station\", \"01/01/2016 08:00:00 AM\", \"71.0\"],\n",
        "    [\"Foster Weather Station\", \"01/01/2016 07:00:00 AM\", \"72.0\"],\n",
        "    [\"Foster Weather Station\", \"01/01/2016 06:00:00 AM\", \"72.0\"],\n",
        "    [\"Foster Weather Station\", \"01/01/2016 05:00:00 AM\", \"71.0\"],\n",
        "    [\"Foster Weather Station\", \"01/01/2016 04:00:00 AM\", \"69.0\"],\n",
        "    [\"Foster Weather Station\", \"01/01/2016 03:00:00 AM\", \"67.0\"],\n",
        "    [\"Foster Weather Station\", \"01/01/2016 02:00:00 AM\", \"64.0\"],\n",
        "    [\"Foster Weather Station\", \"01/01/2016 01:00:00 AM\", \"67.0\"],\n",
        "    [\"Foster Weather Station\", \"01/01/2016 12:00:00 AM\", \"67.0\"]\n",
        "]"
      ]
    },
    {
      "cell_type": "code",
      "source": [
        "with open('weather_data.csv', 'w', newline='') as file:\n",
        "    writer = csv.writer(file)\n",
        "    writer.writerow(header)  # Write the header row\n",
        "    writer.writerows(data)  # Write the data rows\n",
        "\n",
        "print(\"weather_data.csv created successfully!\")"
      ],
      "metadata": {
        "colab": {
          "base_uri": "https://localhost:8080/"
        },
        "id": "hqKnRnR26PjS",
        "outputId": "5db6d350-537a-4c6f-a37c-b73aa58ce756"
      },
      "execution_count": null,
      "outputs": [
        {
          "output_type": "stream",
          "name": "stdout",
          "text": [
            "weather_data.csv created successfully!\n"
          ]
        }
      ]
    },
    {
      "cell_type": "code",
      "source": [
        "import csv\n",
        "with open('weather_data.csv', mode='r', newline='') as file:\n",
        "    reader = csv.reader(file)\n",
        "\n",
        "    # Print each row in the CSV file\n",
        "    for row in reader:\n",
        "        print(row)"
      ],
      "metadata": {
        "colab": {
          "base_uri": "https://localhost:8080/"
        },
        "id": "cUEga_CM_uB-",
        "outputId": "f29b2d47-2020-4d48-cc78-2aa816f764de"
      },
      "execution_count": null,
      "outputs": [
        {
          "output_type": "stream",
          "name": "stdout",
          "text": [
            "['Station Name', 'Timestamp', 'Air Temperature']\n",
            "['Foster Weather Station', '01/01/2016 11:00:00 PM', '69.0']\n",
            "['Foster Weather Station', '01/01/2016 08:00:00 PM', '70.0']\n",
            "['Foster Weather Station', '01/01/2016 07:00:00 PM', '70.0']\n",
            "['Foster Weather Station', '01/01/2016 06:00:00 PM', '72.0']\n",
            "['Foster Weather Station', '01/01/2016 05:00:00 PM', '72.0']\n",
            "['Foster Weather Station', '01/01/2016 04:00:00 PM', '73.0']\n",
            "['Foster Weather Station', '01/01/2016 03:00:00 PM', '69.0']\n",
            "['Foster Weather Station', '01/01/2016 02:00:00 PM', '70.0']\n",
            "['Foster Weather Station', '01/01/2016 01:00:00 PM', '70.0']\n",
            "['Foster Weather Station', '01/01/2016 12:00:00 PM', '70.0']\n",
            "['Foster Weather Station', '01/01/2016 11:00:00 AM', '70.0']\n",
            "['Foster Weather Station', '01/01/2016 10:00:00 AM', '70.0']\n",
            "['Foster Weather Station', '01/01/2016 09:00:00 AM', '70.0']\n",
            "['Foster Weather Station', '01/01/2016 08:00:00 AM', '71.0']\n",
            "['Foster Weather Station', '01/01/2016 07:00:00 AM', '72.0']\n",
            "['Foster Weather Station', '01/01/2016 06:00:00 AM', '72.0']\n",
            "['Foster Weather Station', '01/01/2016 05:00:00 AM', '71.0']\n",
            "['Foster Weather Station', '01/01/2016 04:00:00 AM', '69.0']\n",
            "['Foster Weather Station', '01/01/2016 03:00:00 AM', '67.0']\n",
            "['Foster Weather Station', '01/01/2016 02:00:00 AM', '64.0']\n",
            "['Foster Weather Station', '01/01/2016 01:00:00 AM', '67.0']\n",
            "['Foster Weather Station', '01/01/2016 12:00:00 AM', '67.0']\n"
          ]
        }
      ]
    },
    {
      "cell_type": "code",
      "source": [
        "import sys\n",
        "import csv\n",
        "from collections import defaultdict\n",
        "from datetime import datetime\n",
        "\n",
        "def aggregate_weather_data(input_stream):\n",
        "    data = defaultdict(lambda: {\"temps\": [], \"start\": None, \"end\": None})\n",
        "\n",
        "    reader = csv.reader(input_stream)\n",
        "    header = next(reader)\n",
        "\n",
        "    for row in reader:\n",
        "        station_name, timestamp, temp = row[0], row[1], float(row[2])\n",
        "        date = datetime.strptime(timestamp, \"%m/%d/%Y %I:%M:%S %p\").strftime(\"%m/%d/%Y\")\n",
        "\n",
        "        if data[(station_name, date)][\"start\"] is None:\n",
        "            data[(station_name, date)][\"start\"] = temp\n",
        "        data[(station_name, date)][\"end\"] = temp\n",
        "        data[(station_name, date)][\"temps\"].append(temp)\n",
        "\n",
        "    output = [[\"Station Name\", \"Date\", \"Min Temp\", \"Max Temp\", \"First Temp\", \"Last Temp\"]]\n",
        "    for (station, date), details in data.items():\n",
        "        min_temp = min(details[\"temps\"])\n",
        "        max_temp = max(details[\"temps\"])\n",
        "        first_temp = details[\"start\"]\n",
        "        last_temp = details[\"end\"]\n",
        "        output.append([station, date, f\"{min_temp:.1f}\", f\"{max_temp:.1f}\", f\"{first_temp:.1f}\", f\"{last_temp:.1f}\"])\n",
        "\n",
        "    writer = csv.writer(sys.stdout)\n",
        "    writer.writerows(output)\n",
        "\n",
        "if __name__ == \"__main__\":\n",
        "    with open('weather_data.csv', 'r') as f:\n",
        "        aggregate_weather_data(f)\n"
      ],
      "metadata": {
        "colab": {
          "base_uri": "https://localhost:8080/"
        },
        "id": "b58UB53A_997",
        "outputId": "e9894c8b-a22e-42b6-bfd4-13a7920bd551"
      },
      "execution_count": null,
      "outputs": [
        {
          "output_type": "stream",
          "name": "stdout",
          "text": [
            "Station Name,Date,Min Temp,Max Temp,First Temp,Last Temp\r\n",
            "Foster Weather Station,01/01/2016,64.0,73.0,69.0,67.0\r\n"
          ]
        }
      ]
    },
    {
      "cell_type": "code",
      "source": [],
      "metadata": {
        "id": "VerbIul9AOFN"
      },
      "execution_count": null,
      "outputs": []
    }
  ]
}